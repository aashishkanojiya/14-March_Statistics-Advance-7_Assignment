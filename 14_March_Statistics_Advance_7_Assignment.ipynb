{
  "nbformat": 4,
  "nbformat_minor": 0,
  "metadata": {
    "colab": {
      "provenance": []
    },
    "kernelspec": {
      "name": "python3",
      "display_name": "Python 3"
    },
    "language_info": {
      "name": "python"
    }
  },
  "cells": [
    {
      "cell_type": "markdown",
      "source": [
        "Q1. Write a Python function that takes in two arrays of data and calculates the F-value for a variance ratio\n",
        "test. The function should return the F-value and the corresponding p-value for the test."
      ],
      "metadata": {
        "id": "E4FX3TwkcUGV"
      }
    },
    {
      "cell_type": "markdown",
      "source": [
        "Answer:-"
      ],
      "metadata": {
        "id": "TFDd8QwqcWX_"
      }
    },
    {
      "cell_type": "code",
      "execution_count": 1,
      "metadata": {
        "colab": {
          "base_uri": "https://localhost:8080/"
        },
        "id": "8-yTqeBZcCLn",
        "outputId": "70fe751a-9a4e-4c3f-bcb4-11054d020260"
      },
      "outputs": [
        {
          "output_type": "stream",
          "name": "stdout",
          "text": [
            "F-value: 3.4848484848484858\n",
            "p-value: 0.07708556610982875\n"
          ]
        }
      ],
      "source": [
        "import numpy as np\n",
        "from scipy.stats import f\n",
        "\n",
        "def variance_ratio_test(data1, data2):\n",
        "    # Calculate the variances of the two datasets\n",
        "    var1 = np.var(data1, ddof=1)\n",
        "    var2 = np.var(data2, ddof=1)\n",
        "\n",
        "    # Calculate the F-value\n",
        "    if var1 > var2:\n",
        "        F = var1 / var2\n",
        "        df1 = len(data1) - 1\n",
        "        df2 = len(data2) - 1\n",
        "    else:\n",
        "        F = var2 / var1\n",
        "        df1 = len(data2) - 1\n",
        "        df2 = len(data1) - 1\n",
        "\n",
        "    # Calculate the p-value\n",
        "    p_value = 1 - f.cdf(F, df1, df2)\n",
        "\n",
        "    return F, p_value\n",
        "\n",
        "# Example usage\n",
        "data1 = [5, 7, 8, 9, 10, 12, 15]\n",
        "data2 = [6, 6, 7, 8, 8, 9, 11]\n",
        "\n",
        "F_value, p_value = variance_ratio_test(data1, data2)\n",
        "print(\"F-value:\", F_value)\n",
        "print(\"p-value:\", p_value)\n"
      ]
    },
    {
      "cell_type": "markdown",
      "source": [
        "Q2. Given a significance level of 0.05 and the degrees of freedom for the numerator and denominator of an\n",
        "F-distribution, write a Python function that returns the critical F-value for a two-tailed test."
      ],
      "metadata": {
        "id": "M15D3XuYct3w"
      }
    },
    {
      "cell_type": "markdown",
      "source": [
        "Answer:-"
      ],
      "metadata": {
        "id": "foGodT_tcuaQ"
      }
    },
    {
      "cell_type": "code",
      "source": [
        "from scipy.stats import f\n",
        "\n",
        "def critical_f_value(alpha, df_numerator, df_denominator):\n",
        "    # Calculate the critical F-value for a two-tailed test\n",
        "    # Since it's a two-tailed test, we divide the significance level by 2\n",
        "    critical_value = f.ppf(1 - alpha / 2, df_numerator, df_denominator)\n",
        "    return critical_value\n",
        "\n",
        "# Example usage:\n",
        "alpha = 0.05\n",
        "df_numerator = 4  # Example degrees of freedom for the numerator\n",
        "df_denominator = 5  # Example degrees of freedom for the denominator\n",
        "\n",
        "critical_value = critical_f_value(alpha, df_numerator, df_denominator)\n",
        "print(f\"Critical F-value: {critical_value}\")"
      ],
      "metadata": {
        "colab": {
          "base_uri": "https://localhost:8080/"
        },
        "id": "wlZkoICfca0V",
        "outputId": "62c9aa93-b44b-465f-ae8b-f0744ca82b55"
      },
      "execution_count": 2,
      "outputs": [
        {
          "output_type": "stream",
          "name": "stdout",
          "text": [
            "Critical F-value: 7.387885751267751\n"
          ]
        }
      ]
    },
    {
      "cell_type": "markdown",
      "source": [
        "Q3. Write a Python program that generates random samples from two normal distributions with known variances and uses an F-test to determine if the variances are equal. The program should output the F-\n",
        "value, degrees of freedom, and p-value for the test."
      ],
      "metadata": {
        "id": "DfImrgfndMQD"
      }
    },
    {
      "cell_type": "markdown",
      "source": [
        "Answer:-\n",
        "\n",
        "Performing a two - tailed F test"
      ],
      "metadata": {
        "id": "VtHQWTsLdPBP"
      }
    },
    {
      "cell_type": "code",
      "source": [
        "import numpy as np\n",
        "from scipy.stats import f\n",
        "\n",
        "# Set seed for reproducibility\n",
        "np.random.seed(456)\n",
        "\n",
        "# Generate random samples from two normal distributions with known variances\n",
        "n1 = 30\n",
        "n2 = 40\n",
        "mean1 = 10\n",
        "mean2 = 20\n",
        "var1 = 6\n",
        "var2 = 4\n",
        "\n",
        "sample1 = np.random.normal(mean1, np.sqrt(var1), n1)\n",
        "sample2 = np.random.normal(mean2, np.sqrt(var2), n2)\n",
        "\n",
        "# Calculate the F-value and p-value for the variance ratio test\n",
        "F = np.var(sample1, ddof=1) / np.var(sample2, ddof=1)\n",
        "dfn = n1 - 1\n",
        "dfd = n2 - 1\n",
        "p_value = 2 * min(f.cdf(F, dfn, dfd), 1 - f.cdf(F, dfn, dfd))\n",
        "\n",
        "# Output the results\n",
        "print(\"Sample 1 mean: {:.2f}, variance: {:.2f}\".format(np.mean(sample1), np.var(sample1, ddof=1)))\n",
        "print(\"Sample 2 mean: {:.2f}, variance: {:.2f}\".format(np.mean(sample2), np.var(sample2, ddof=1)))\n",
        "print(\"F-value: {:.2f}\".format(F))\n",
        "print(\"Degrees of freedom: ({}, {})\".format(dfn, dfd))\n",
        "print(\"p-value: {:.4f}\".format(p_value))\n",
        "\n",
        "print('\\n===================================================================\\n')\n",
        "\n",
        "# Null Hypothesis and Alternate hypothesis\n",
        "null_hypothesis = \"Variance of two samples population is same\"\n",
        "alternate_hypothesis = \"Variance of both samples population is different\"\n",
        "\n",
        "# Assuming alpha value of 0.05\n",
        "alpha = 0.05\n",
        "\n",
        "# Calculates critical values for two tailed F-test\n",
        "F_crit1 = f.ppf(alpha/2, dfn, dfd)\n",
        "F_crit2 = f.ppf(1-alpha/2,dfn, dfd)\n",
        "\n",
        "# Print Critical F values\n",
        "print(f'Significance Level : {alpha}')\n",
        "print(f'Numerator dof : {dfn}')\n",
        "print(f'Denominator dof : {dfd}')\n",
        "print(f\"Critical F-values are {F_crit1:.4f} and {F_crit2:.4f}\")\n",
        "\n",
        "# Conclusion\n",
        "if (F < F_crit1) or (F > F_crit2):\n",
        "    print('Reject the Null Hypothesis')\n",
        "    print(f'Conculsion : {alternate_hypothesis}')\n",
        "else:\n",
        "    print('FAILED to reject the Null Hypothesis')\n",
        "    print(f'Conculsion : {null_hypothesis}')"
      ],
      "metadata": {
        "colab": {
          "base_uri": "https://localhost:8080/"
        },
        "id": "7fgX3_uNdFIL",
        "outputId": "4bfd7b5b-1691-41cd-caad-91a992bdea65"
      },
      "execution_count": 3,
      "outputs": [
        {
          "output_type": "stream",
          "name": "stdout",
          "text": [
            "Sample 1 mean: 10.48, variance: 5.47\n",
            "Sample 2 mean: 19.90, variance: 2.94\n",
            "F-value: 1.86\n",
            "Degrees of freedom: (29, 39)\n",
            "p-value: 0.0711\n",
            "\n",
            "===================================================================\n",
            "\n",
            "Significance Level : 0.05\n",
            "Numerator dof : 29\n",
            "Denominator dof : 39\n",
            "Critical F-values are 0.4920 and 1.9619\n",
            "FAILED to reject the Null Hypothesis\n",
            "Conculsion : Variance of two samples population is same\n"
          ]
        }
      ]
    },
    {
      "cell_type": "markdown",
      "source": [
        "Q4.The variances of two populations are known to be 10 and 15. A sample of 12 observations is taken from\n",
        "each population. Conduct an F-test at the 5% significance level to determine if the variances are\n",
        "significantly different."
      ],
      "metadata": {
        "id": "HfWMhm7ndwLD"
      }
    },
    {
      "cell_type": "markdown",
      "source": [
        "Answer:-"
      ],
      "metadata": {
        "id": "0Qioe65Kdwsf"
      }
    },
    {
      "cell_type": "code",
      "source": [
        "from scipy.stats import f\n",
        "\n",
        "# Given data\n",
        "var1 = 10  # Variance of population 1\n",
        "var2 = 15  # Variance of population 2\n",
        "n1 = 12    # Sample size from population 1\n",
        "n2 = 12    # Sample size from population 2\n",
        "alpha = 0.05  # Significance level\n",
        "\n",
        "# Calculate the F-statistic\n",
        "f_statistic = var1 / var2\n",
        "\n",
        "# Degrees of freedom\n",
        "df1 = n1 - 1  # Degrees of freedom for population 1\n",
        "df2 = n2 - 1  # Degrees of freedom for population 2\n",
        "\n",
        "# Critical F-value\n",
        "critical_value = f.ppf(1 - alpha, df1, df2)\n",
        "\n",
        "# Output results\n",
        "print(f\"F-statistic: {f_statistic:.4f}\")\n",
        "print(f\"Critical F-value at alpha={alpha}: {critical_value:.4f}\")\n",
        "\n",
        "# Decision\n",
        "if f_statistic > critical_value:\n",
        "    print(\"Reject the null hypothesis: The variances are significantly different.\")\n",
        "else:\n",
        "    print(\"Fail to reject the null hypothesis: The variances are not significantly different.\")"
      ],
      "metadata": {
        "colab": {
          "base_uri": "https://localhost:8080/"
        },
        "id": "XGLojBDhdttI",
        "outputId": "ca060cc2-be59-44ac-edee-27a49cc0fbf9"
      },
      "execution_count": 4,
      "outputs": [
        {
          "output_type": "stream",
          "name": "stdout",
          "text": [
            "F-statistic: 0.6667\n",
            "Critical F-value at alpha=0.05: 2.8179\n",
            "Fail to reject the null hypothesis: The variances are not significantly different.\n"
          ]
        }
      ]
    },
    {
      "cell_type": "markdown",
      "source": [
        "Q5. A manufacturer claims that the variance of the diameter of a certain product is 0.005. A sample of 25\n",
        "products is taken, and the sample variance is found to be 0.006. Conduct an F-test at the 1% significance\n",
        "level to determine if the claim is justified."
      ],
      "metadata": {
        "id": "a_oPw8mjeUf0"
      }
    },
    {
      "cell_type": "markdown",
      "source": [
        "Answer:"
      ],
      "metadata": {
        "id": "kGktoryceZrJ"
      }
    },
    {
      "cell_type": "code",
      "source": [
        "import scipy.stats as stats\n",
        "\n",
        "# Set the significance level\n",
        "alpha = 0.01\n",
        "\n",
        "# Set the claimed population variance and sample variance\n",
        "sigma2 = 0.005  # Claimed population variance\n",
        "s2 = 0.006      # Sample variance\n",
        "\n",
        "# Set the sample size\n",
        "n = 25\n",
        "\n",
        "# Null Hypothesis and Alternate Hypothesis\n",
        "null_hypothesis = \"The variance of the diameter of the product is 0.005\"\n",
        "alternate_hypothesis = \"The variance of the diameter of the product is NOT 0.005.\"\n",
        "\n",
        "# Calculate the F-statistic\n",
        "F = s2 / sigma2\n",
        "\n",
        "# Degrees of freedom\n",
        "dfn = n - 1  # Degrees of freedom for the sample variance\n",
        "dfd = 1      # Degrees of freedom for the claimed variance (since it's a known variance)\n",
        "\n",
        "# Calculate the critical values for the two-tailed F-test\n",
        "F_crit1 = stats.f.ppf(alpha / 2, dfn, dfd)\n",
        "F_crit2 = stats.f.ppf(1 - alpha / 2, dfn, dfd)\n",
        "\n",
        "# Calculate the p-value\n",
        "p_value = 2 * min(stats.f.cdf(F, dfn, dfd), 1 - stats.f.cdf(F, dfn, dfd))\n",
        "\n",
        "# Print the results\n",
        "print(f\"F-statistic: {F:.4f}\")\n",
        "print(f\"F Critical values: {F_crit1:.4f} and {F_crit2:.4f}\")\n",
        "print(f\"P-value: {p_value:.4f}\")\n",
        "\n",
        "if p_value < alpha:\n",
        "    print(\"Reject null hypothesis.\")\n",
        "    print(f\"Conclusion: {alternate_hypothesis}\")\n",
        "else:\n",
        "    print(\"FAIL to reject null hypothesis.\")\n",
        "    print(f\"Conclusion: {null_hypothesis}\")"
      ],
      "metadata": {
        "colab": {
          "base_uri": "https://localhost:8080/"
        },
        "id": "egJiqfsAeRLM",
        "outputId": "a0c2e2fa-bf09-4ee6-c792-d356366a7308"
      },
      "execution_count": 4,
      "outputs": [
        {
          "output_type": "stream",
          "name": "stdout",
          "text": [
            "F-statistic: 1.2000\n",
            "F Critical values: 0.1047 and 24939.5653\n",
            "P-value: 0.7408\n",
            "FAIL to reject null hypothesis.\n",
            "Conclusion: The variance of the diameter of the product is 0.005\n"
          ]
        }
      ]
    },
    {
      "cell_type": "markdown",
      "source": [
        "Q6. Write a Python function that takes in the degrees of freedom for the numerator and denominator of an\n",
        "F-distribution and calculates the mean and variance of the distribution. The function should return the\n",
        "mean and variance as a tuple."
      ],
      "metadata": {
        "id": "GRPGirOaeec-"
      }
    },
    {
      "cell_type": "markdown",
      "source": [
        "Answer:-\n",
        "\n",
        "The mean and variance of an F-distribution can be calculated using the following formulas:-\n",
        "\n",
        "1.Mean of the F-distribution: [ \\text{Mean} = \\frac{df_1}{df_1 - 2} \\quad \\text{for } df_1 > 2 ]\n",
        "\n",
        "2.Variance of the F-distribution: [ \\text{Variance} = \\frac{2 \\cdot (df_2)^2 \\cdot (df_1 + df_1 - 2)}{df_1 \\cdot (df_2 - 2)^2 \\cdot (df_2 - 4)} \\quad \\text{for } df_2 > 4 ]"
      ],
      "metadata": {
        "id": "Z8yL1APhefN0"
      }
    },
    {
      "cell_type": "code",
      "source": [
        "def f_distribution_stats(df1, df2):\n",
        "    \"\"\"\n",
        "    Calculate the mean and variance of an F-distribution.\n",
        "\n",
        "    Parameters:\n",
        "    df1 (int): Degrees of freedom for the numerator\n",
        "    df2 (int): Degrees of freedom for the denominator\n",
        "\n",
        "    Returns:\n",
        "    tuple: A tuple containing the mean and variance of the F-distribution\n",
        "    \"\"\"\n",
        "    # Calculate mean\n",
        "    if df1 > 2:\n",
        "        mean = df1 / (df1 - 2)\n",
        "    else:\n",
        "        mean = None  # Mean is undefined for df1 <= 2\n",
        "\n",
        "    # Calculate variance\n",
        "    if df2 > 4:\n",
        "        variance = (2 * (df2 ** 2) * (df1 + df1 - 2)) / (df1 * (df2 - 2) ** 2 * (df2 - 4))\n",
        "    else:\n",
        "        variance = None  # Variance is undefined for df2 <= 4\n",
        "\n",
        "    return mean, variance\n",
        "\n",
        "# Example usage:\n",
        "df1 = 5  # Degrees of freedom for the numerator\n",
        "df2 = 10  # Degrees of freedom for the denominator\n",
        "mean, variance = f_distribution_stats(df1, df2)\n",
        "\n",
        "print(f\"Mean: {mean}, Variance: {variance}\")"
      ],
      "metadata": {
        "colab": {
          "base_uri": "https://localhost:8080/"
        },
        "id": "vxC6JrnZeZ5u",
        "outputId": "9a4c9027-9a54-46c1-d69d-967ef695df6f"
      },
      "execution_count": 5,
      "outputs": [
        {
          "output_type": "stream",
          "name": "stdout",
          "text": [
            "Mean: 1.6666666666666667, Variance: 0.8333333333333334\n"
          ]
        }
      ]
    },
    {
      "cell_type": "markdown",
      "source": [
        "Q7. A random sample of 10 measurements is taken from a normal population with unknown variance. The\n",
        "sample variance is found to be 25. Another random sample of 15 measurements is taken from another\n",
        "normal population with unknown variance, and the sample variance is found to be 20. Conduct an F-test\n",
        "at the 10% significance level to determine if the variances are significantly different."
      ],
      "metadata": {
        "id": "MRM4PHFjgL9f"
      }
    },
    {
      "cell_type": "markdown",
      "source": [
        "Answer:-\n",
        "\n",
        "Performing one Tailed F-test below"
      ],
      "metadata": {
        "id": "KqumE_-JgMiA"
      }
    },
    {
      "cell_type": "code",
      "source": [
        "import numpy as np\n",
        "from scipy.stats import f\n",
        "\n",
        "# Set significance level and degrees of freedom\n",
        "alpha = 0.10\n",
        "n1 = 10\n",
        "n2 = 15\n",
        "df1 = n1-1\n",
        "df2 = n2-1\n",
        "\n",
        "# Variance for each group\n",
        "var1 = 25\n",
        "var2 = 20\n",
        "\n",
        "# Null and Alternate hypothesis\n",
        "null_hypothesis = \"Variances are similar\"\n",
        "alternate_hypothesis =  \"Variances are significantly different\"\n",
        "\n",
        "# Calculate F-statistic\n",
        "f_statistic = var1/var2\n",
        "p_value = 1 - f.cdf(f_statistic, df1, df2)\n",
        "\n",
        "# Calculate F-critical\n",
        "F_crit = f.ppf(1-alpha,df1, df2)\n",
        "\n",
        "# print the results\n",
        "print(f\"F-statistic: {f_statistic:.4f}\")\n",
        "print(f\"F Critical value: {F_crit:.4f}\")\n",
        "print(f\"P-value: {p_value:.4f}\")\n",
        "\n",
        "# Determine if null hypothesis should be rejected\n",
        "if p_value < alpha:\n",
        "    print(\"Reject null hypothesis.\")\n",
        "    print(f\"Conclusion : {alternate_hypothesis}\")\n",
        "else:\n",
        "    print(\"FAIL to reject null hypothesis. \")\n",
        "    print(f\"Conclusion : {null_hypothesis}\")"
      ],
      "metadata": {
        "colab": {
          "base_uri": "https://localhost:8080/"
        },
        "id": "1nQrFuWmgI4B",
        "outputId": "9052ec52-4911-4e50-cd90-2b67f9479f3d"
      },
      "execution_count": 6,
      "outputs": [
        {
          "output_type": "stream",
          "name": "stdout",
          "text": [
            "F-statistic: 1.2500\n",
            "F Critical value: 2.1220\n",
            "P-value: 0.3416\n",
            "FAIL to reject null hypothesis. \n",
            "Conclusion : Variances are similar\n"
          ]
        }
      ]
    },
    {
      "cell_type": "markdown",
      "source": [
        "Q8. The following data represent the waiting times in minutes at two different restaurants on a Saturday\n",
        "night: Restaurant A: 24, 25, 28, 23, 22, 20, 27; Restaurant B: 31, 33, 35, 30, 32, 36. Conduct an F-test at the 5%\n",
        "significance level to determine if the variances are significantly different."
      ],
      "metadata": {
        "id": "Ed-zZXyEgy5Z"
      }
    },
    {
      "cell_type": "markdown",
      "source": [
        "Answer:-\n",
        "\n",
        "Let's conduct an F-test to determine if the variances of the waiting times at the two restaurants are significantly different at the 5% significance level.\n",
        "\n",
        "Given Data:\n",
        "\n",
        "Restaurant A: 24, 25, 28, 23, 22, 20, 27\n",
        "\n",
        "Restaurant B: 31, 33, 35, 30, 32, 36\n",
        "\n",
        "Significance level (\n",
        "𝛼\n",
        "): 0.05\n",
        "\n",
        "Steps:\n",
        "\n",
        "1.Calculate the sample variances.\n",
        "\n",
        "2.Calculate the F-value.\n",
        "\n",
        "3.Determine the critical value for the F-distribution.\n",
        "\n",
        "4.Compare the F-value with the critical value to make a decision."
      ],
      "metadata": {
        "id": "MSBk8Q8Dgzyi"
      }
    },
    {
      "cell_type": "code",
      "source": [
        "import numpy as np\n",
        "from scipy.stats import f\n",
        "\n",
        "# Given data\n",
        "restaurant_A = [24, 25, 28, 23, 22, 20, 27]\n",
        "restaurant_B = [31, 33, 35, 30, 32, 36]\n",
        "\n",
        "# Calculate the sample variances\n",
        "s1_sq = np.var(restaurant_A, ddof=1)\n",
        "s2_sq = np.var(restaurant_B, ddof=1)\n",
        "\n",
        "# Calculate the F-value\n",
        "F_value = s1_sq / s2_sq if s1_sq > s2_sq else s2_sq / s1_sq\n",
        "\n",
        "# Degrees of freedom\n",
        "df1 = len(restaurant_A) - 1\n",
        "df2 = len(restaurant_B) - 1\n",
        "\n",
        "# Significance level\n",
        "alpha = 0.05\n",
        "\n",
        "# Calculate the critical value for a two-tailed test\n",
        "critical_value_upper = f.ppf(1 - alpha / 2, df1, df2)\n",
        "critical_value_lower = f.ppf(alpha / 2, df1, df2)\n",
        "\n",
        "# Output the results\n",
        "print(f\"F-value: {F_value:.4f}\")\n",
        "print(f\"Degrees of freedom: ({df1}, {df2})\")\n",
        "print(f\"Critical value (lower): {critical_value_lower:.4f}\")\n",
        "print(f\"Critical value (upper): {critical_value_upper:.4f}\")\n",
        "\n",
        "# Conclusion\n",
        "if F_value < critical_value_lower or F_value > critical_value_upper:\n",
        "    print(\"We reject the null hypothesis. The variances are significantly different.\")\n",
        "else:\n",
        "    print(\"We fail to reject the null hypothesis. The variances are not significantly different.\")"
      ],
      "metadata": {
        "colab": {
          "base_uri": "https://localhost:8080/"
        },
        "id": "pZ5f4zbIgv1g",
        "outputId": "3478dfac-79d8-45b5-cdac-fd8973bb5421"
      },
      "execution_count": 10,
      "outputs": [
        {
          "output_type": "stream",
          "name": "stdout",
          "text": [
            "F-value: 1.4552\n",
            "Degrees of freedom: (6, 5)\n",
            "Critical value (lower): 0.1670\n",
            "Critical value (upper): 6.9777\n",
            "We fail to reject the null hypothesis. The variances are not significantly different.\n"
          ]
        }
      ]
    },
    {
      "cell_type": "markdown",
      "source": [
        "Q9. The following data represent the test scores of two groups of students: Group A: 80, 85, 90, 92, 87, 83;\n",
        "Group B: 75, 78, 82, 79, 81, 84. Conduct an F-test at the 1% significance level to determine if the variances\n",
        "are significantly different."
      ],
      "metadata": {
        "id": "6Zq0FRU5iTPf"
      }
    },
    {
      "cell_type": "markdown",
      "source": [
        "Answer:-\n",
        "\n",
        "Let's conduct an F-test to determine if the variances of the test scores for the two groups of students are significantly different at the 1% significance level.\n",
        "\n",
        "Given Data:\n",
        "Group A: 80, 85, 90, 92, 87, 83\n",
        "\n",
        "Group B: 75, 78, 82, 79, 81, 84\n",
        "\n",
        "Significance level (\n",
        "𝛼\n",
        "): 0.01\n",
        "\n",
        "Steps:\n",
        "\n",
        "1.Calculate the sample variances.\n",
        "\n",
        "2.Calculate the F-value.\n",
        "\n",
        "3.Determine the critical value for the F-distribution.\n",
        "\n",
        "4.Compare the F-value with the critical value to make a decision."
      ],
      "metadata": {
        "id": "n8ap0ptTiT1P"
      }
    },
    {
      "cell_type": "code",
      "source": [
        "import numpy as np\n",
        "from scipy.stats import f\n",
        "\n",
        "# Given data\n",
        "group_A = [80, 85, 90, 92, 87, 83]\n",
        "group_B = [75, 78, 82, 79, 81, 84]\n",
        "\n",
        "# Calculate the sample variances\n",
        "s1_sq = np.var(group_A, ddof=1)\n",
        "s2_sq = np.var(group_B, ddof=1)\n",
        "\n",
        "# Calculate the F-value\n",
        "F_value = s1_sq / s2_sq if s1_sq > s2_sq else s2_sq / s1_sq\n",
        "\n",
        "# Degrees of freedom\n",
        "df1 = len(group_A) - 1\n",
        "df2 = len(group_B) - 1\n",
        "\n",
        "# Significance level\n",
        "alpha = 0.01\n",
        "\n",
        "# Calculate the critical value for a two-tailed test\n",
        "critical_value_upper = f.ppf(1 - alpha / 2, df1, df2)\n",
        "critical_value_lower = f.ppf(alpha / 2, df1, df2)\n",
        "\n",
        "# Output the results\n",
        "print(f\"F-value: {F_value:.4f}\")\n",
        "print(f\"Degrees of freedom: ({df1}, {df2})\")\n",
        "print(f\"Critical value (lower): {critical_value_lower:.4f}\")\n",
        "print(f\"Critical value (upper): {critical_value_upper:.4f}\")\n",
        "\n",
        "# Conclusion\n",
        "if F_value < critical_value_lower or F_value > critical_value_upper:\n",
        "    print(\"We reject the null hypothesis. The variances are significantly different.\")\n",
        "else:\n",
        "    print(\"We fail to reject the null hypothesis. The variances are not significantly different.\")\n"
      ],
      "metadata": {
        "colab": {
          "base_uri": "https://localhost:8080/"
        },
        "id": "kqyayvM1iHkL",
        "outputId": "c1983619-a0df-406f-9f62-c4af81d60d8a"
      },
      "execution_count": 12,
      "outputs": [
        {
          "output_type": "stream",
          "name": "stdout",
          "text": [
            "F-value: 1.9443\n",
            "Degrees of freedom: (5, 5)\n",
            "Critical value (lower): 0.0669\n",
            "Critical value (upper): 14.9396\n",
            "We fail to reject the null hypothesis. The variances are not significantly different.\n"
          ]
        }
      ]
    }
  ]
}